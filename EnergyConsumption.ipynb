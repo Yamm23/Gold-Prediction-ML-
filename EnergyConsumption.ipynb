{
  "nbformat": 4,
  "nbformat_minor": 0,
  "metadata": {
    "colab": {
      "provenance": [],
      "mount_file_id": "1cZIumfIRRz4El4mHf5lOKRZOruX3CGn9",
      "authorship_tag": "ABX9TyNNtu8uPTaUKUoUq3smt5fw",
      "include_colab_link": true
    },
    "kernelspec": {
      "name": "python3",
      "display_name": "Python 3"
    },
    "language_info": {
      "name": "python"
    }
  },
  "cells": [
    {
      "cell_type": "markdown",
      "metadata": {
        "id": "view-in-github",
        "colab_type": "text"
      },
      "source": [
        "<a href=\"https://colab.research.google.com/github/Yamm23/Learning-Macine-Learning/blob/main/EnergyConsumption.ipynb\" target=\"_parent\"><img src=\"https://colab.research.google.com/assets/colab-badge.svg\" alt=\"Open In Colab\"/></a>"
      ]
    },
    {
      "cell_type": "code",
      "execution_count": 3,
      "metadata": {
        "id": "SmwQ7gARkyud"
      },
      "outputs": [],
      "source": [
        "import pandas as pd\n",
        "df = pd.read_csv('/content/drive/MyDrive/LearningAI_CSV/EnergyConsumptionDataset/train_energy_data.csv')"
      ]
    },
    {
      "cell_type": "code",
      "source": [
        "print(df.head())\n",
        "print(df.info())\n",
        "print(df.describe())"
      ],
      "metadata": {
        "colab": {
          "base_uri": "https://localhost:8080/"
        },
        "id": "onNzkG62pthp",
        "outputId": "ac10caa9-4125-44bd-e25a-4baaf96742c8"
      },
      "execution_count": 4,
      "outputs": [
        {
          "output_type": "stream",
          "name": "stdout",
          "text": [
            "  Building Type  Square Footage  Number of Occupants  Appliances Used  \\\n",
            "0   Residential            7063                   76               10   \n",
            "1    Commercial           44372                   66               45   \n",
            "2    Industrial           19255                   37               17   \n",
            "3   Residential           13265                   14               41   \n",
            "4    Commercial           13375                   26               18   \n",
            "\n",
            "   Average Temperature Day of Week  Energy Consumption  \n",
            "0                29.84     Weekday             2713.95  \n",
            "1                16.72     Weekday             5744.99  \n",
            "2                14.30     Weekend             4101.24  \n",
            "3                32.82     Weekday             3009.14  \n",
            "4                11.92     Weekday             3279.17  \n",
            "<class 'pandas.core.frame.DataFrame'>\n",
            "RangeIndex: 1000 entries, 0 to 999\n",
            "Data columns (total 7 columns):\n",
            " #   Column               Non-Null Count  Dtype  \n",
            "---  ------               --------------  -----  \n",
            " 0   Building Type        1000 non-null   object \n",
            " 1   Square Footage       1000 non-null   int64  \n",
            " 2   Number of Occupants  1000 non-null   int64  \n",
            " 3   Appliances Used      1000 non-null   int64  \n",
            " 4   Average Temperature  1000 non-null   float64\n",
            " 5   Day of Week          1000 non-null   object \n",
            " 6   Energy Consumption   1000 non-null   float64\n",
            "dtypes: float64(2), int64(3), object(2)\n",
            "memory usage: 54.8+ KB\n",
            "None\n",
            "       Square Footage  Number of Occupants  Appliances Used  \\\n",
            "count        1000.000          1000.000000      1000.000000   \n",
            "mean        25462.388            48.372000        25.606000   \n",
            "std         14294.554            29.061972        14.105166   \n",
            "min           560.000             1.000000         1.000000   \n",
            "25%         13169.750            22.000000        13.000000   \n",
            "50%         25477.000            47.000000        26.000000   \n",
            "75%         37446.250            73.250000        38.000000   \n",
            "max         49997.000            99.000000        49.000000   \n",
            "\n",
            "       Average Temperature  Energy Consumption  \n",
            "count          1000.000000         1000.000000  \n",
            "mean             22.611390         4166.252570  \n",
            "std               7.139943          933.313064  \n",
            "min              10.050000         1683.950000  \n",
            "25%              16.475000         3509.482500  \n",
            "50%              22.815000         4175.730000  \n",
            "75%              28.850000         4863.850000  \n",
            "max              34.990000         6530.600000  \n"
          ]
        }
      ]
    },
    {
      "cell_type": "code",
      "source": [
        "import seaborn as sns\n",
        "import matplotlib.pyplot as plt"
      ],
      "metadata": {
        "id": "2FLbZKoNm4Ox"
      },
      "execution_count": 5,
      "outputs": []
    },
    {
      "cell_type": "code",
      "source": [
        "corr = df.corr()\n",
        "sns.heatmap(corr, annot=True, cmap='coolwarm')\n",
        "plt.title('Correlation Heatmap')\n",
        "plt.show()"
      ],
      "metadata": {
        "id": "My_8NxKrrBAh"
      },
      "execution_count": null,
      "outputs": []
    }
  ]
}